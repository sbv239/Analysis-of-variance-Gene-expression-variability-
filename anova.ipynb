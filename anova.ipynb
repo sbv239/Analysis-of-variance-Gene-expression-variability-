{
 "cells": [
  {
   "cell_type": "markdown",
   "id": "083f2f82",
   "metadata": {},
   "source": [
    "# Gene expression variability\n",
    "### Analysis of Variance (ANOVA) using different approaches"
   ]
  },
  {
   "cell_type": "code",
   "execution_count": 77,
   "id": "0882a6e4",
   "metadata": {},
   "outputs": [],
   "source": [
    "import pandas as pd\n",
    "import matplotlib.pyplot as plt\n",
    "import seaborn as sns\n",
    "import numpy as np\n",
    "import scipy.stats as stats"
   ]
  },
  {
   "cell_type": "code",
   "execution_count": 78,
   "id": "b8b06363",
   "metadata": {},
   "outputs": [],
   "source": [
    "df = pd.read_csv('genetherapy.csv')"
   ]
  },
  {
   "cell_type": "code",
   "execution_count": 56,
   "id": "112c1512",
   "metadata": {},
   "outputs": [
    {
     "data": {
      "text/html": [
       "<div>\n",
       "<style scoped>\n",
       "    .dataframe tbody tr th:only-of-type {\n",
       "        vertical-align: middle;\n",
       "    }\n",
       "\n",
       "    .dataframe tbody tr th {\n",
       "        vertical-align: top;\n",
       "    }\n",
       "\n",
       "    .dataframe thead th {\n",
       "        text-align: right;\n",
       "    }\n",
       "</style>\n",
       "<table border=\"1\" class=\"dataframe\">\n",
       "  <thead>\n",
       "    <tr style=\"text-align: right;\">\n",
       "      <th></th>\n",
       "      <th>expr</th>\n",
       "      <th>Therapy</th>\n",
       "    </tr>\n",
       "  </thead>\n",
       "  <tbody>\n",
       "    <tr>\n",
       "      <th>0</th>\n",
       "      <td>100</td>\n",
       "      <td>A</td>\n",
       "    </tr>\n",
       "    <tr>\n",
       "      <th>1</th>\n",
       "      <td>96</td>\n",
       "      <td>A</td>\n",
       "    </tr>\n",
       "    <tr>\n",
       "      <th>2</th>\n",
       "      <td>101</td>\n",
       "      <td>A</td>\n",
       "    </tr>\n",
       "    <tr>\n",
       "      <th>3</th>\n",
       "      <td>95</td>\n",
       "      <td>A</td>\n",
       "    </tr>\n",
       "    <tr>\n",
       "      <th>4</th>\n",
       "      <td>103</td>\n",
       "      <td>A</td>\n",
       "    </tr>\n",
       "  </tbody>\n",
       "</table>\n",
       "</div>"
      ],
      "text/plain": [
       "   expr Therapy\n",
       "0   100       A\n",
       "1    96       A\n",
       "2   101       A\n",
       "3    95       A\n",
       "4   103       A"
      ]
     },
     "execution_count": 56,
     "metadata": {},
     "output_type": "execute_result"
    }
   ],
   "source": [
    "df.head()"
   ]
  },
  {
   "cell_type": "code",
   "execution_count": 67,
   "id": "770cfdfb",
   "metadata": {},
   "outputs": [
    {
     "name": "stdout",
     "output_type": "stream",
     "text": [
      "<class 'pandas.core.frame.DataFrame'>\n",
      "RangeIndex: 60 entries, 0 to 59\n",
      "Data columns (total 2 columns):\n",
      " #   Column   Non-Null Count  Dtype \n",
      "---  ------   --------------  ----- \n",
      " 0   expr     60 non-null     int64 \n",
      " 1   Therapy  60 non-null     object\n",
      "dtypes: int64(1), object(1)\n",
      "memory usage: 1.1+ KB\n"
     ]
    }
   ],
   "source": [
    "df.info()"
   ]
  },
  {
   "cell_type": "code",
   "execution_count": 79,
   "id": "f2aa4584",
   "metadata": {
    "scrolled": false
   },
   "outputs": [
    {
     "data": {
      "text/plain": [
       "Text(0, 0.5, 'Gene expression')"
      ]
     },
     "execution_count": 79,
     "metadata": {},
     "output_type": "execute_result"
    },
    {
     "data": {
      "image/png": "[encoded data removed]",
      "text/plain": [
       "<Figure size 1600x900 with 1 Axes>"
      ]
     },
     "metadata": {},
     "output_type": "display_data"
    }
   ],
   "source": [
    "plt.figure(figsize=(16, 9))\n",
    "sns.boxplot(x='Therapy', y='expr', data=df)\n",
    "\n",
    "plt.title('Gene expression variability vs Therapy')\n",
    "plt.xlabel('Therapy')\n",
    "plt.ylabel('Gene expression')"
   ]
  },
  {
   "cell_type": "markdown",
   "id": "d02703b5",
   "metadata": {},
   "source": [
    "### Perform ANOVA (manual approach)"
   ]
  },
  {
   "cell_type": "code",
   "execution_count": 80,
   "id": "58f2157e",
   "metadata": {},
   "outputs": [],
   "source": [
    "therapy_list = df['Therapy'].unique()"
   ]
  },
  {
   "cell_type": "code",
   "execution_count": 81,
   "id": "b54baad3",
   "metadata": {},
   "outputs": [],
   "source": [
    "# Number of groups and total number of observations\n",
    "\n",
    "k = len(therapy_list)\n",
    "n = len(df)\n",
    "\n",
    "# Calculate group means and overall mean\n",
    "\n",
    "group_means = [df[df['Therapy'] == therapy]['expr'].mean() for therapy in therapy_list]\n",
    "overall_mean = df['expr'].mean()\n",
    "\n",
    "# Calculate the between-group sum of squares (SSB)\n",
    "\n",
    "SSB = sum(len(df[df['Therapy'] == therapy]['expr']) * (group_mean - overall_mean) ** 2 for therapy, group_mean in zip(therapy_list, group_means))\n",
    "\n",
    "# Calculate the within-group sum of squares (SSW)\n",
    "\n",
    "SSW = sum(sum((df[df['Therapy'] == therapy]['expr'] - group_mean) ** 2) for therapy, group_mean in zip(therapy_list, group_means))\n",
    "\n",
    "# Calculate degrees of freedom\n",
    "\n",
    "DFB = k - 1  # Between-group degrees of freedom\n",
    "DFW = n - k  # Within-group degrees of freedom\n",
    "\n",
    "# Calculate mean squares\n",
    "\n",
    "MSB = SSB / DFB\n",
    "MSW = SSW / DFW\n",
    "\n",
    "# Calculate the F-statistic\n",
    "\n",
    "F_statistic = MSB / MSW\n",
    "\n",
    "# Calculate the p-value\n",
    "\n",
    "p_value = stats.f.sf(F_statistic, DFB, DFW)"
   ]
  },
  {
   "cell_type": "code",
   "execution_count": 82,
   "id": "7cc2428d",
   "metadata": {},
   "outputs": [
    {
     "name": "stdout",
     "output_type": "stream",
     "text": [
      "F-statistic: 8.037\n",
      "P-value: 0.00015\n",
      "\n",
      "Reject the null hypothesis: There is a significant difference between the therapies.\n"
     ]
    }
   ],
   "source": [
    "print(f\"F-statistic: {F_statistic:.3f}\")\n",
    "print(f\"P-value: {p_value:.5f}\")\n",
    "\n",
    "alpha = 0.05\n",
    "\n",
    "if p_value < alpha:\n",
    "    print(\"\\nReject the null hypothesis: There is a significant difference between the therapies.\")\n",
    "else:\n",
    "    print(\"\\nFail to reject the null hypothesis: There is no significant difference between the therapies.\")"
   ]
  },
  {
   "cell_type": "markdown",
   "id": "41589fad",
   "metadata": {},
   "source": [
    "### Perform ANOVA using 'scipy.stats.f_oneway'"
   ]
  },
  {
   "cell_type": "code",
   "execution_count": 83,
   "id": "ccaddd99",
   "metadata": {},
   "outputs": [
    {
     "name": "stdout",
     "output_type": "stream",
     "text": [
      "F-statistic: 8.03730248114399\n",
      "P-value: 0.00015249722895229536\n",
      "\n",
      "Reject the null hypothesis: There is a significant difference between the therapies.\n"
     ]
    }
   ],
   "source": [
    "from scipy.stats import f_oneway\n",
    "\n",
    "therapy_A = df[df['Therapy'] == 'A']['expr']\n",
    "therapy_B = df[df['Therapy'] == 'B']['expr']\n",
    "therapy_C = df[df['Therapy'] == 'C']['expr']\n",
    "therapy_D = df[df['Therapy'] == 'D']['expr']\n",
    "\n",
    "\n",
    "F_statistic, p_value = f_oneway(therapy_A, therapy_B, therapy_C, therapy_D)\n",
    "\n",
    "print(f\"F-statistic: {F_statistic}\")\n",
    "print(f\"P-value: {p_value}\")\n",
    "\n",
    "if p_value < alpha:\n",
    "    print(\"\\nReject the null hypothesis: There is a significant difference between the therapies.\")\n",
    "else:\n",
    "    print(\"\\nFail to reject the null hypothesis: There is no significant difference between the therapies.\")"
   ]
  },
  {
   "cell_type": "markdown",
   "id": "5511f42e",
   "metadata": {},
   "source": [
    "### Perform ANOVA using 'statsmodels'"
   ]
  },
  {
   "cell_type": "code",
   "execution_count": 63,
   "id": "1cc72fde",
   "metadata": {},
   "outputs": [
    {
     "name": "stdout",
     "output_type": "stream",
     "text": [
      "            df       sum_sq     mean_sq         F    PR(>F)\n",
      "Therapy    3.0   560.716667  186.905556  8.037302  0.000152\n",
      "Residual  56.0  1302.266667   23.254762       NaN       NaN\n"
     ]
    }
   ],
   "source": [
    "from statsmodels.formula.api import ols\n",
    "from statsmodels.stats.anova import anova_lm\n",
    "\n",
    "model = ols('expr ~ Therapy', data=df).fit()\n",
    "anova_results = anova_lm(model)\n",
    "\n",
    "print(anova_results)"
   ]
  },
  {
   "cell_type": "markdown",
   "id": "47518a2c",
   "metadata": {},
   "source": [
    "### Plot means with confidence interval lines"
   ]
  },
  {
   "cell_type": "code",
   "execution_count": 93,
   "id": "5d30ffe5",
   "metadata": {
    "scrolled": false
   },
   "outputs": [
    {
     "data": {
      "image/png": "[encoded data removed]",
      "text/plain": [
       "<Figure size 1900x900 with 1 Axes>"
      ]
     },
     "metadata": {},
     "output_type": "display_data"
    }
   ],
   "source": [
    "import statistics\n",
    "from math import sqrt\n",
    "\n",
    "def plot_confidence_interval(x, values, z=1.96, color='#2187bb', horizontal_line_width=0.25):\n",
    "    mean = statistics.mean(values)\n",
    "    stdev = statistics.stdev(values)\n",
    "    confidence_interval = z * stdev / sqrt(len(values))\n",
    "\n",
    "    left = x - horizontal_line_width / 2\n",
    "    top = mean - confidence_interval\n",
    "    right = x + horizontal_line_width / 2\n",
    "    bottom = mean + confidence_interval\n",
    "\n",
    "    # Plot confidence interval lines\n",
    "    plt.plot([x, x], [top, bottom], color=color)  # Vertical line for CI\n",
    "    plt.plot([left, right], [top, top], color=color)  # Top horizontal line\n",
    "    plt.plot([left, right], [bottom, bottom], color=color)  # Bottom horizontal line\n",
    "    plt.plot(x, mean, 'o', color='#f44336')  # Mean point\n",
    "\n",
    "    return mean, confidence_interval\n",
    "\n",
    "plt.figure(figsize=(19, 9))\n",
    "plt.xticks([1, 2, 3, 4], ['A', 'B', 'C', 'D'])\n",
    "plt.title('Means with confidence interval lines for different therapies')\n",
    "\n",
    "plot_confidence_interval(1, therapy_A)\n",
    "plot_confidence_interval(2, therapy_B)\n",
    "plot_confidence_interval(3, therapy_C)\n",
    "plot_confidence_interval(4, therapy_D)\n",
    "\n",
    "plt.show()"
   ]
  },
  {
   "cell_type": "markdown",
   "id": "95427022",
   "metadata": {},
   "source": [
    "The plot of means with confidence intervals supports our hypothesis that the differences in therapies are statistically significant"
   ]
  },
  {
   "cell_type": "markdown",
   "id": "d71ce701",
   "metadata": {},
   "source": [
    "### Conclusion\n",
    "\n",
    "---\n",
    "\n",
    "We got that all different approaches of using analysis of variance showed identical results, which tells us that we did everything right when we calculated the f-statistic and p-value manually."
   ]
  }
 ],
 "metadata": {
  "kernelspec": {
   "display_name": "Python 3 (ipykernel)",
   "language": "python",
   "name": "python3"
  },
  "language_info": {
   "codemirror_mode": {
    "name": "ipython",
    "version": 3
   },
   "file_extension": ".py",
   "mimetype": "text/x-python",
   "name": "python",
   "nbconvert_exporter": "python",
   "pygments_lexer": "ipython3",
   "version": "3.11.5"
  }
 },
 "nbformat": 4,
 "nbformat_minor": 5
}
